{
 "cells": [
  {
   "cell_type": "code",
   "execution_count": 1,
   "metadata": {
    "collapsed": true
   },
   "outputs": [],
   "source": [
    "import pandas as pd\n",
    "import requests\n",
    "from multiprocessing.dummy import Pool as ThreadPool"
   ]
  },
  {
   "cell_type": "code",
   "execution_count": 2,
   "metadata": {
    "collapsed": true
   },
   "outputs": [],
   "source": [
    "lrb_base_url = 'http://api.xueqiu.com/stock/f10/incstatement.csv?page=1&size=10000&symbol='\n",
    "llb_base_url = 'http://api.xueqiu.com/stock/f10/cfstatement.csv?page=1&size=10000&symbol='\n",
    "fzb_base_url = 'http://api.xueqiu.com/stock/f10/balsheet.csv?page=1&size=10000&symbol='"
   ]
  },
  {
   "cell_type": "code",
   "execution_count": 3,
   "metadata": {
    "collapsed": true
   },
   "outputs": [],
   "source": [
    "headers = {\n",
    "    'User-Agent': 'Mozilla/5.0',\n",
    "    'Cookie': 'xq_a_token=4c6af5a6a2c8e7862e51b7761695e6e88e768a3'\n",
    "}"
   ]
  },
  {
   "cell_type": "code",
   "execution_count": null,
   "metadata": {
    "collapsed": true
   },
   "outputs": [],
   "source": [
    "DEST_DIR = r'e:\\stock_report'"
   ]
  },
  {
   "cell_type": "code",
   "execution_count": null,
   "metadata": {
    "collapsed": true
   },
   "outputs": [],
   "source": [
    "def download_lrb(url):\n",
    "    r = requests.get(url, headers=headers)\n",
    "    filename = url.split('=')[-1] + '_lrb.csv'\n",
    "    print(filename)\n",
    "    with open(filename, 'wb') as f:\n",
    "        f.write(r.content)\n",
    "\n",
    "def download_fzb(url):\n",
    "    r = requests.get(url, headers=headers)\n",
    "    filename = url.split('=')[-1] + '_fzb.csv'\n",
    "    print(filename)\n",
    "    with open(filename, 'wb') as f:\n",
    "        f.write(r.content)\n",
    "\n",
    "def download_llb(url):\n",
    "    r = requests.get(url, headers=headers)\n",
    "    filename = url.split('=')[-1] + '_llb.csv'\n",
    "    print(filename)\n",
    "    with open(filename, 'wb') as f:\n",
    "        f.write(r.content)"
   ]
  },
  {
   "cell_type": "code",
   "execution_count": 5,
   "metadata": {
    "collapsed": false
   },
   "outputs": [],
   "source": [
    "url = 'http://api.xueqiu.com/stock/f10/incstatement.csv?page=1&size=10000&symbol=sz000001'\n",
    "r = requests.get(url,headers = headers)\n"
   ]
  },
  {
   "cell_type": "code",
   "execution_count": 6,
   "metadata": {
    "collapsed": true
   },
   "outputs": [],
   "source": [
    "with open('sz00001test.csv','wb') as f:\n",
    "    f.write(r.content)"
   ]
  },
  {
   "cell_type": "code",
   "execution_count": null,
   "metadata": {
    "collapsed": true
   },
   "outputs": [],
   "source": [
    "class Xueqiu_report:\n",
    "    def __init__(self,code_li = None):\n",
    "        self.code_li = code_li\n",
    "    def get_report(self,type_report):\n",
    "        if type_report == 'lrb':\n",
    "            base_url = lrb_base_url\n",
    "        elif type_report == 'llb':\n",
    "            base_url = llb_base_url\n",
    "        elif type_report == 'fzb':\n",
    "            base_url = fzb_base_url\n",
    "        else:\n",
    "            print('type_report is wrong,must be lrb,llb,or fzb!')\n",
    "            raise ValueError"
   ]
  }
 ],
 "metadata": {
  "kernelspec": {
   "display_name": "Python 3",
   "language": "python",
   "name": "python3"
  },
  "language_info": {
   "codemirror_mode": {
    "name": "ipython",
    "version": 3
   },
   "file_extension": ".py",
   "mimetype": "text/x-python",
   "name": "python",
   "nbconvert_exporter": "python",
   "pygments_lexer": "ipython3",
   "version": "3.5.2"
  },
  "toc": {
   "base_numbering": 1,
   "nav_menu": {},
   "number_sections": true,
   "sideBar": true,
   "skip_h1_title": false,
   "title_cell": "Table of Contents",
   "title_sidebar": "Contents",
   "toc_cell": false,
   "toc_position": {},
   "toc_section_display": true,
   "toc_window_display": false
  }
 },
 "nbformat": 4,
 "nbformat_minor": 1
}
